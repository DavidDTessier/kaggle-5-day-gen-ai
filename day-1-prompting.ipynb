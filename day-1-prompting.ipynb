{
 "cells": [
  {
   "cell_type": "markdown",
   "id": "1c20c39f",
   "metadata": {
    "id": "jkxRSYjzA1oX",
    "papermill": {
     "duration": 0.014853,
     "end_time": "2025-03-31T12:17:07.919620",
     "exception": false,
     "start_time": "2025-03-31T12:17:07.904767",
     "status": "completed"
    },
    "tags": []
   },
   "source": [
    "##### Copyright 2025 Google LLC."
   ]
  },
  {
   "cell_type": "code",
   "execution_count": 1,
   "id": "e0a56471",
   "metadata": {
    "cellView": "form",
    "execution": {
     "iopub.execute_input": "2025-03-31T12:17:07.949996Z",
     "iopub.status.busy": "2025-03-31T12:17:07.949553Z",
     "iopub.status.idle": "2025-03-31T12:17:07.956551Z",
     "shell.execute_reply": "2025-03-31T12:17:07.955399Z"
    },
    "id": "5u5OZ2ShA3BA",
    "jupyter": {
     "source_hidden": true
    },
    "papermill": {
     "duration": 0.026376,
     "end_time": "2025-03-31T12:17:07.959560",
     "exception": false,
     "start_time": "2025-03-31T12:17:07.933184",
     "status": "completed"
    },
    "tags": []
   },
   "outputs": [],
   "source": [
    "# @title Licensed under the Apache License, Version 2.0 (the \"License\");\n",
    "# you may not use this file except in compliance with the License.\n",
    "# You may obtain a copy of the License at\n",
    "#\n",
    "# https://www.apache.org/licenses/LICENSE-2.0\n",
    "#\n",
    "# Unless required by applicable law or agreed to in writing, software\n",
    "# distributed under the License is distributed on an \"AS IS\" BASIS,\n",
    "# WITHOUT WARRANTIES OR CONDITIONS OF ANY KIND, either express or implied.\n",
    "# See the License for the specific language governing permissions and\n",
    "# limitations under the License."
   ]
  },
  {
   "cell_type": "markdown",
   "id": "057ea0d7",
   "metadata": {
    "id": "csNPnkuCobmG",
    "papermill": {
     "duration": 0.012379,
     "end_time": "2025-03-31T12:17:07.984735",
     "exception": false,
     "start_time": "2025-03-31T12:17:07.972356",
     "status": "completed"
    },
    "tags": []
   },
   "source": [
    "# Day 1 - Prompting\n",
    "\n",
    "Welcome to the Kaggle 5-day Generative AI course!\n",
    "\n",
    "This notebook will show you how to get started with the Gemini API and walk you through some of the example prompts and techniques that you can also read about in the Prompting whitepaper. You don't need to read the whitepaper to use this notebook, but the papers will give you some theoretical context and background to complement this interactive notebook.\n",
    "\n",
    "\n",
    "## Before you begin\n",
    "\n",
    "In this notebook, you'll start exploring prompting using the Python SDK and AI Studio. For some inspiration, you might enjoy exploring some apps that have been built using the Gemini family of models. Here are a few that we like, and we think you will too.\n",
    "\n",
    "* [TextFX](https://textfx.withgoogle.com/) is a suite of AI-powered tools for rappers, made in collaboration with Lupe Fiasco,\n",
    "* [SQL Talk](https://sql-talk-r5gdynozbq-uc.a.run.app/) shows how you can talk directly to a database using the Gemini API,\n",
    "* [NotebookLM](https://notebooklm.google/) uses Gemini models to build your own personal AI research assistant.\n",
    "\n",
    "\n",
    "## For help\n",
    "\n",
    "**Common issues are covered in the [FAQ and troubleshooting guide](https://www.kaggle.com/code/markishere/day-0-troubleshooting-and-faqs).**\n",
    "\n",
    "## New for Gemini 2.0!\n",
    "\n",
    "This course material was first launched in November 2024. The AI and LLM space is moving incredibly fast, so we have made some updates to use the latest models and capabilities.\n",
    "\n",
    "* These codelabs have been updated to use the Gemini 2.0 family of models.\n",
    "* The Python SDK has been updated from `google-generativeai` to the new, unified [`google-genai`](https://pypi.org/project/google-genai) SDK.\n",
    "  * This new SDK works with both the developer Gemini API as well as Google Cloud Vertex AI, and switching is [as simple as changing some fields](https://pypi.org/project/google-genai/#:~:text=.Client%28%29-,API%20Selection,-By%20default%2C%20the).\n",
    "* New model capabilities have been added to the relevant codelabs, such as \"thinking mode\" in this lab.\n",
    "* Day 1 includes a new [Evaluation codelab](https://www.kaggle.com/code/markishere/day-1-evaluation-and-structured-output)."
   ]
  },
  {
   "attachments": {
    "d8299597-f771-4195-ac94-1d6f658ef2bd.png": {
     "image/png": "[encoded data removed]"
    },
    "ed25e346-2e15-4ab0-bc22-503eb1845e66.png": {
     "image/png": "[encoded data removed]"
    }
   },
   "cell_type": "markdown",
   "id": "1990a7c8",
   "metadata": {
    "id": "f00ea7c99e44",
    "papermill": {
     "duration": 0.019014,
     "end_time": "2025-03-31T12:17:08.016390",
     "exception": false,
     "start_time": "2025-03-31T12:17:07.997376",
     "status": "completed"
    },
    "tags": []
   },
   "source": [
    "## Get started with Kaggle notebooks\n",
    "\n",
    "If this is your first time using a Kaggle notebook, welcome! You can read about how to use Kaggle notebooks [in the docs](https://www.kaggle.com/docs/notebooks).\n",
    "\n",
    "First, you will need to phone verify your account at kaggle.com/settings.\n",
    "\n",
    "![](https://storage.googleapis.com/kaggle-media/Images/5dgai_0.png)"
   ]
  },
  {
   "cell_type": "markdown",
   "id": "446e186b",
   "metadata": {
    "papermill": {
     "duration": 0.012948,
     "end_time": "2025-03-31T12:17:08.042039",
     "exception": false,
     "start_time": "2025-03-31T12:17:08.029091",
     "status": "completed"
    },
    "tags": []
   },
   "source": [
    "To run this notebook, as well as the others in this course, you will need to make a copy, or fork, the notebook. Look for the `Copy and Edit` button in the top-right, and **click it** to make an editable, private copy of the notebook. It should look like this one:\n",
    "\n",
    "![Copy and Edit button](https://storage.googleapis.com/kaggle-media/Images/5gdai_sc_1.png)\n",
    "\n",
    "Your copy will now have a ▶️ **Run** button next to each code cell that you can press to execute that cell. These notebooks are expected to be run in order from top-to-bottom, but you are encouraged to add new cells, run your own code and explore. If you get stuck, you can try the `Factory reset` option in the `Run` menu, or head back to the original notebook and make a fresh copy.\n",
    "\n",
    "![Run cell button](https://storage.googleapis.com/kaggle-media/Images/5gdai_sc_2.png)\n",
    "\n",
    "### Problems?\n",
    "\n",
    "If you have any problems, head over to the [Kaggle Discord](https://discord.com/invite/kaggle), find the [`#5dgai-q-and-a` channel](https://discord.com/channels/1101210829807956100/1303438695143178251) and ask for help."
   ]
  },
  {
   "cell_type": "markdown",
   "id": "ef30f3d5",
   "metadata": {
    "id": "ExkOXcPxtTb5",
    "papermill": {
     "duration": 0.012749,
     "end_time": "2025-03-31T12:17:08.067401",
     "exception": false,
     "start_time": "2025-03-31T12:17:08.054652",
     "status": "completed"
    },
    "tags": []
   },
   "source": [
    "## Get started with the Gemini API\n",
    "\n",
    "All of the exercises in this notebook will use the [Gemini API](https://ai.google.dev/gemini-api/) by way of the [Python SDK](https://pypi.org/project/google-genai/). Each of these prompts can be accessed directly in [Google AI Studio](https://aistudio.google.com/) too, so if you would rather use a web interface and skip the code for this activity, look for the <img src=\"https://ai.google.dev/site-assets/images/marketing/home/icon-ais.png\" style=\"height: 24px\" height=24/> AI Studio link on each prompt."
   ]
  },
  {
   "cell_type": "markdown",
   "id": "f6f5de0b",
   "metadata": {
    "papermill": {
     "duration": 0.01223,
     "end_time": "2025-03-31T12:17:08.092672",
     "exception": false,
     "start_time": "2025-03-31T12:17:08.080442",
     "status": "completed"
    },
    "tags": []
   },
   "source": [
    "Next, you will need to add your API key to your Kaggle Notebook as a Kaggle User Secret.\n",
    "\n",
    "![](https://storage.googleapis.com/kaggle-media/Images/5dgai_1.png)\n",
    "![](https://storage.googleapis.com/kaggle-media/Images/5dgai_2.png)\n",
    "![](https://storage.googleapis.com/kaggle-media/Images/5dgai_3.png)\n",
    "![](https://storage.googleapis.com/kaggle-media/Images/5dgai_4.png)"
   ]
  },
  {
   "cell_type": "markdown",
   "id": "87d74a57",
   "metadata": {
    "id": "UAjUV3BsvFXQ",
    "papermill": {
     "duration": 0.012422,
     "end_time": "2025-03-31T12:17:08.117629",
     "exception": false,
     "start_time": "2025-03-31T12:17:08.105207",
     "status": "completed"
    },
    "tags": []
   },
   "source": [
    "### Install the SDK"
   ]
  },
  {
   "cell_type": "code",
   "execution_count": 2,
   "id": "67800ad2",
   "metadata": {
    "execution": {
     "iopub.execute_input": "2025-03-31T12:17:08.144525Z",
     "iopub.status.busy": "2025-03-31T12:17:08.144138Z",
     "iopub.status.idle": "2025-03-31T12:17:28.935328Z",
     "shell.execute_reply": "2025-03-31T12:17:28.933478Z"
    },
    "id": "NzwzJFU9LqkJ",
    "papermill": {
     "duration": 20.808416,
     "end_time": "2025-03-31T12:17:28.938690",
     "exception": false,
     "start_time": "2025-03-31T12:17:08.130274",
     "status": "completed"
    },
    "tags": []
   },
   "outputs": [],
   "source": [
    "!pip uninstall -qqy jupyterlab  # Remove unused packages from Kaggle's base image that conflict\n",
    "!pip install -U -q \"google-genai==1.7.0\""
   ]
  },
  {
   "cell_type": "markdown",
   "id": "546bb716",
   "metadata": {
    "papermill": {
     "duration": 0.012723,
     "end_time": "2025-03-31T12:17:28.964863",
     "exception": false,
     "start_time": "2025-03-31T12:17:28.952140",
     "status": "completed"
    },
    "tags": []
   },
   "source": [
    "Import the SDK and some helpers for rendering the output."
   ]
  },
  {
   "cell_type": "code",
   "execution_count": 3,
   "id": "d3682775",
   "metadata": {
    "execution": {
     "iopub.execute_input": "2025-03-31T12:17:28.992332Z",
     "iopub.status.busy": "2025-03-31T12:17:28.991813Z",
     "iopub.status.idle": "2025-03-31T12:17:30.496607Z",
     "shell.execute_reply": "2025-03-31T12:17:30.495394Z"
    },
    "id": "5DwxYIRavMST",
    "papermill": {
     "duration": 1.52218,
     "end_time": "2025-03-31T12:17:30.499534",
     "exception": false,
     "start_time": "2025-03-31T12:17:28.977354",
     "status": "completed"
    },
    "tags": []
   },
   "outputs": [],
   "source": [
    "from google import genai\n",
    "from google.genai import types\n",
    "\n",
    "from IPython.display import HTML, Markdown, display"
   ]
  },
  {
   "cell_type": "markdown",
   "id": "56ed02f3",
   "metadata": {
    "papermill": {
     "duration": 0.012371,
     "end_time": "2025-03-31T12:17:30.525034",
     "exception": false,
     "start_time": "2025-03-31T12:17:30.512663",
     "status": "completed"
    },
    "tags": []
   },
   "source": [
    "Set up a retry helper. This allows you to \"Run all\" without worrying about per-minute quota."
   ]
  },
  {
   "cell_type": "code",
   "execution_count": 4,
   "id": "4cb5d836",
   "metadata": {
    "execution": {
     "iopub.execute_input": "2025-03-31T12:17:30.552521Z",
     "iopub.status.busy": "2025-03-31T12:17:30.551600Z",
     "iopub.status.idle": "2025-03-31T12:17:30.762514Z",
     "shell.execute_reply": "2025-03-31T12:17:30.761339Z"
    },
    "papermill": {
     "duration": 0.227947,
     "end_time": "2025-03-31T12:17:30.765419",
     "exception": false,
     "start_time": "2025-03-31T12:17:30.537472",
     "status": "completed"
    },
    "tags": []
   },
   "outputs": [],
   "source": [
    "from google.api_core import retry\n",
    "\n",
    "\n",
    "is_retriable = lambda e: (isinstance(e, genai.errors.APIError) and e.code in {429, 503})\n",
    "\n",
    "genai.models.Models.generate_content = retry.Retry(\n",
    "    predicate=is_retriable)(genai.models.Models.generate_content)"
   ]
  },
  {
   "cell_type": "markdown",
   "id": "32e69095",
   "metadata": {
    "id": "DNEt2BCOvOJ1",
    "papermill": {
     "duration": 0.013548,
     "end_time": "2025-03-31T12:17:30.792006",
     "exception": false,
     "start_time": "2025-03-31T12:17:30.778458",
     "status": "completed"
    },
    "tags": []
   },
   "source": [
    "### Set up your API key\n",
    "\n",
    "To run the following cell, your API key must be stored it in a [Kaggle secret](https://www.kaggle.com/discussions/product-feedback/114053) named `GOOGLE_API_KEY`.\n",
    "\n",
    "If you don't already have an API key, you can grab one from [AI Studio](https://aistudio.google.com/app/apikey). You can find [detailed instructions in the docs](https://ai.google.dev/gemini-api/docs/api-key).\n",
    "\n",
    "To make the key available through Kaggle secrets, choose `Secrets` from the `Add-ons` menu and follow the instructions to add your key or enable it for this notebook."
   ]
  },
  {
   "cell_type": "code",
   "execution_count": 5,
   "id": "e34da555",
   "metadata": {
    "execution": {
     "iopub.execute_input": "2025-03-31T12:17:30.822726Z",
     "iopub.status.busy": "2025-03-31T12:17:30.822045Z",
     "iopub.status.idle": "2025-03-31T12:17:30.991339Z",
     "shell.execute_reply": "2025-03-31T12:17:30.990141Z"
    },
    "id": "SHl0bkPCvayd",
    "papermill": {
     "duration": 0.186898,
     "end_time": "2025-03-31T12:17:30.994199",
     "exception": false,
     "start_time": "2025-03-31T12:17:30.807301",
     "status": "completed"
    },
    "tags": []
   },
   "outputs": [],
   "source": [
    "from kaggle_secrets import UserSecretsClient\n",
    "\n",
    "GOOGLE_API_KEY = UserSecretsClient().get_secret(\"GOOGLE_API_KEY\")"
   ]
  },
  {
   "attachments": {
    "d2be9aab-2527-48af-b6cf-1f06cdd7c3a7.png": {
     "image/png": "[encoded data removed]"
    }
   },
   "cell_type": "markdown",
   "id": "947d6429",
   "metadata": {
    "id": "4e720472fd86",
    "papermill": {
     "duration": 0.013007,
     "end_time": "2025-03-31T12:17:31.026133",
     "exception": false,
     "start_time": "2025-03-31T12:17:31.013126",
     "status": "completed"
    },
    "tags": []
   },
   "source": [
    "If you received an error response along the lines of `No user secrets exist for kernel id ...`, then you need to add your API key via `Add-ons`, `Secrets` **and** enable it.\n",
    "\n",
    "![Screenshot of the checkbox to enable GOOGLE_API_KEY secret](https://storage.googleapis.com/kaggle-media/Images/5gdai_sc_3.png)"
   ]
  },
  {
   "cell_type": "markdown",
   "id": "476c44ab",
   "metadata": {
    "id": "H_YXCYIKvyZJ",
    "papermill": {
     "duration": 0.012613,
     "end_time": "2025-03-31T12:17:31.052166",
     "exception": false,
     "start_time": "2025-03-31T12:17:31.039553",
     "status": "completed"
    },
    "tags": []
   },
   "source": [
    "### Run your first prompt\n",
    "\n",
    "In this step, you will test that your API key is set up correctly by making a request.\n",
    "\n",
    "The Python SDK uses a [`Client` object](https://googleapis.github.io/python-genai/genai.html#genai.client.Client) to make requests to the API. The client lets you control which back-end to use (between the Gemini API and Vertex AI) and handles authentication (the API key).\n",
    "\n",
    "The `gemini-2.0-flash` model has been selected here.\n",
    "\n",
    "**Note**: If you see a `TransportError` on this step, you may need to **🔁 Factory reset** the notebook one time."
   ]
  },
  {
   "cell_type": "code",
   "execution_count": 6,
   "id": "a63f05d2",
   "metadata": {
    "execution": {
     "iopub.execute_input": "2025-03-31T12:17:31.080016Z",
     "iopub.status.busy": "2025-03-31T12:17:31.079582Z",
     "iopub.status.idle": "2025-03-31T12:17:34.004858Z",
     "shell.execute_reply": "2025-03-31T12:17:33.999845Z"
    },
    "id": "BV1o0PmcvyJF",
    "papermill": {
     "duration": 2.943877,
     "end_time": "2025-03-31T12:17:34.009052",
     "exception": false,
     "start_time": "2025-03-31T12:17:31.065175",
     "status": "completed"
    },
    "tags": []
   },
   "outputs": [
    {
     "name": "stdout",
     "output_type": "stream",
     "text": [
      "Imagine you have a really, really smart robot! That robot is like AI, or Artificial Intelligence.\n",
      "\n",
      "Instead of just doing the same things over and over, like a regular toy robot, this robot can learn new things!\n",
      "\n",
      "**How does it learn?**\n",
      "\n",
      "*   **Like learning to ride a bike:** You fall down a lot at first, but you learn from those falls. AI learns by trying things and seeing if they work. If it does something good, it remembers that! If it makes a mistake, it tries to do it differently next time.\n",
      "*   **By looking at lots of examples:** Imagine showing the robot tons of pictures of cats and dogs. After seeing enough pictures, it can learn to tell the difference between them all by itself!\n",
      "\n",
      "**What can AI do?**\n",
      "\n",
      "*   **Play games:** AI can play games like chess or checkers, and it can even get really, really good at them!\n",
      "*   **Help you find things:** When you ask Siri or Alexa a question, they use AI to understand what you're saying and find the answer for you.\n",
      "*   **Drive cars:** Some cars are starting to use AI to help them drive themselves!\n",
      "*   **Help doctors:** AI can even help doctors find diseases earlier.\n",
      "\n",
      "**Is AI magic?**\n",
      "\n",
      "No, it's not magic! It's just really smart computer programs that can learn and solve problems. It's built by people and based on math and logic.\n",
      "\n",
      "**Is AI scary?**\n",
      "\n",
      "AI can be helpful, but it's important to be careful with it too. Just like any powerful tool, it needs to be used responsibly. People are working hard to make sure AI is used for good things!\n",
      "\n",
      "So, AI is like a super-smart, learning robot that can help us in lots of different ways!\n",
      "\n"
     ]
    }
   ],
   "source": [
    "client = genai.Client(api_key=GOOGLE_API_KEY)\n",
    "\n",
    "response = client.models.generate_content(\n",
    "    model=\"gemini-2.0-flash\",\n",
    "    contents=\"Explain AI to me like I'm a kid.\")\n",
    "\n",
    "print(response.text)"
   ]
  },
  {
   "cell_type": "markdown",
   "id": "8c276f0e",
   "metadata": {
    "id": "f60ed9d8ae41",
    "papermill": {
     "duration": 0.014278,
     "end_time": "2025-03-31T12:17:34.037624",
     "exception": false,
     "start_time": "2025-03-31T12:17:34.023346",
     "status": "completed"
    },
    "tags": []
   },
   "source": [
    "The response often comes back in markdown format, which you can render directly in this notebook."
   ]
  },
  {
   "cell_type": "code",
   "execution_count": 7,
   "id": "1cdd0ba7",
   "metadata": {
    "execution": {
     "iopub.execute_input": "2025-03-31T12:17:34.066393Z",
     "iopub.status.busy": "2025-03-31T12:17:34.065956Z",
     "iopub.status.idle": "2025-03-31T12:17:34.075600Z",
     "shell.execute_reply": "2025-03-31T12:17:34.074173Z"
    },
    "id": "c933e5e460a5",
    "papermill": {
     "duration": 0.027565,
     "end_time": "2025-03-31T12:17:34.078452",
     "exception": false,
     "start_time": "2025-03-31T12:17:34.050887",
     "status": "completed"
    },
    "tags": []
   },
   "outputs": [
    {
     "data": {
      "text/markdown": [
       "Imagine you have a really, really smart robot! That robot is like AI, or Artificial Intelligence.\n",
       "\n",
       "Instead of just doing the same things over and over, like a regular toy robot, this robot can learn new things!\n",
       "\n",
       "**How does it learn?**\n",
       "\n",
       "*   **Like learning to ride a bike:** You fall down a lot at first, but you learn from those falls. AI learns by trying things and seeing if they work. If it does something good, it remembers that! If it makes a mistake, it tries to do it differently next time.\n",
       "*   **By looking at lots of examples:** Imagine showing the robot tons of pictures of cats and dogs. After seeing enough pictures, it can learn to tell the difference between them all by itself!\n",
       "\n",
       "**What can AI do?**\n",
       "\n",
       "*   **Play games:** AI can play games like chess or checkers, and it can even get really, really good at them!\n",
       "*   **Help you find things:** When you ask Siri or Alexa a question, they use AI to understand what you're saying and find the answer for you.\n",
       "*   **Drive cars:** Some cars are starting to use AI to help them drive themselves!\n",
       "*   **Help doctors:** AI can even help doctors find diseases earlier.\n",
       "\n",
       "**Is AI magic?**\n",
       "\n",
       "No, it's not magic! It's just really smart computer programs that can learn and solve problems. It's built by people and based on math and logic.\n",
       "\n",
       "**Is AI scary?**\n",
       "\n",
       "AI can be helpful, but it's important to be careful with it too. Just like any powerful tool, it needs to be used responsibly. People are working hard to make sure AI is used for good things!\n",
       "\n",
       "So, AI is like a super-smart, learning robot that can help us in lots of different ways!\n"
      ],
      "text/plain": [
       "<IPython.core.display.Markdown object>"
      ]
     },
     "execution_count": 7,
     "metadata": {},
     "output_type": "execute_result"
    }
   ],
   "source": [
    "Markdown(response.text)"
   ]
  },
  {
   "cell_type": "markdown",
   "id": "9a56d411",
   "metadata": {
    "id": "byx0pT9ZMW2Q",
    "papermill": {
     "duration": 0.012697,
     "end_time": "2025-03-31T12:17:34.104180",
     "exception": false,
     "start_time": "2025-03-31T12:17:34.091483",
     "status": "completed"
    },
    "tags": []
   },
   "source": [
    "### Start a chat\n",
    "\n",
    "The previous example uses a single-turn, text-in/text-out structure, but you can also set up a multi-turn chat structure too."
   ]
  },
  {
   "cell_type": "code",
   "execution_count": 8,
   "id": "698fa2ac",
   "metadata": {
    "execution": {
     "iopub.execute_input": "2025-03-31T12:17:34.134760Z",
     "iopub.status.busy": "2025-03-31T12:17:34.134282Z",
     "iopub.status.idle": "2025-03-31T12:17:34.567176Z",
     "shell.execute_reply": "2025-03-31T12:17:34.565707Z"
    },
    "id": "lV_S5ZL5MidD",
    "papermill": {
     "duration": 0.452545,
     "end_time": "2025-03-31T12:17:34.569809",
     "exception": false,
     "start_time": "2025-03-31T12:17:34.117264",
     "status": "completed"
    },
    "tags": []
   },
   "outputs": [
    {
     "name": "stdout",
     "output_type": "stream",
     "text": [
      "Greetings, Zlork! It's a pleasure to meet you. Is there anything I can help you with today?\n",
      "\n"
     ]
    }
   ],
   "source": [
    "chat = client.chats.create(model='gemini-2.0-flash', history=[])\n",
    "response = chat.send_message('Hello! My name is Zlork.')\n",
    "print(response.text)"
   ]
  },
  {
   "cell_type": "code",
   "execution_count": 9,
   "id": "fd19612d",
   "metadata": {
    "execution": {
     "iopub.execute_input": "2025-03-31T12:17:34.597834Z",
     "iopub.status.busy": "2025-03-31T12:17:34.597379Z",
     "iopub.status.idle": "2025-03-31T12:17:35.725423Z",
     "shell.execute_reply": "2025-03-31T12:17:35.723894Z"
    },
    "id": "7b0372c3c64a",
    "papermill": {
     "duration": 1.145357,
     "end_time": "2025-03-31T12:17:35.728261",
     "exception": false,
     "start_time": "2025-03-31T12:17:34.582904",
     "status": "completed"
    },
    "tags": []
   },
   "outputs": [
    {
     "name": "stdout",
     "output_type": "stream",
     "text": [
      "Okay, here's an interesting dinosaur fact for you:\n",
      "\n",
      "Did you know that **some dinosaurs had feathers, even the ones that weren't closely related to birds?**\n",
      "\n",
      "For a long time, it was thought only dinosaurs directly ancestral to birds had feathers. However, fossil discoveries, particularly in China, have revealed that many other dinosaur species, including some quite large and distantly related to birds, also had feathers. These feathers likely served purposes other than flight, such as insulation, display, and camouflage.\n",
      "\n",
      "This discovery has drastically changed our understanding of dinosaur evolution and suggests that feathers may have been much more widespread among dinosaurs than previously imagined.\n",
      "\n"
     ]
    }
   ],
   "source": [
    "response = chat.send_message('Can you tell me something interesting about dinosaurs?')\n",
    "print(response.text)"
   ]
  },
  {
   "cell_type": "markdown",
   "id": "c3716a81",
   "metadata": {
    "papermill": {
     "duration": 0.013089,
     "end_time": "2025-03-31T12:17:35.755348",
     "exception": false,
     "start_time": "2025-03-31T12:17:35.742259",
     "status": "completed"
    },
    "tags": []
   },
   "source": [
    "While you have the `chat` object alive, the conversation state\n",
    "persists. Confirm that by asking if it knows the user's name."
   ]
  },
  {
   "cell_type": "code",
   "execution_count": 10,
   "id": "cedc5585",
   "metadata": {
    "execution": {
     "iopub.execute_input": "2025-03-31T12:17:35.784507Z",
     "iopub.status.busy": "2025-03-31T12:17:35.784077Z",
     "iopub.status.idle": "2025-03-31T12:17:36.156085Z",
     "shell.execute_reply": "2025-03-31T12:17:36.154833Z"
    },
    "id": "d3f9591392a7",
    "papermill": {
     "duration": 0.389536,
     "end_time": "2025-03-31T12:17:36.158703",
     "exception": false,
     "start_time": "2025-03-31T12:17:35.769167",
     "status": "completed"
    },
    "tags": []
   },
   "outputs": [
    {
     "name": "stdout",
     "output_type": "stream",
     "text": [
      "Yes, I remember your name is Zlork.\n",
      "\n"
     ]
    }
   ],
   "source": [
    "response = chat.send_message('Do you remember what my name is?')\n",
    "print(response.text)"
   ]
  },
  {
   "cell_type": "markdown",
   "id": "d8a75aec",
   "metadata": {
    "id": "2KAjpr1200sW",
    "papermill": {
     "duration": 0.012934,
     "end_time": "2025-03-31T12:17:36.184909",
     "exception": false,
     "start_time": "2025-03-31T12:17:36.171975",
     "status": "completed"
    },
    "tags": []
   },
   "source": [
    "### Choose a model\n",
    "\n",
    "The Gemini API provides access to a number of models from the Gemini model family. Read about the available models and their capabilities on the [model overview page](https://ai.google.dev/gemini-api/docs/models/gemini).\n",
    "\n",
    "In this step you'll use the API to list all of the available models."
   ]
  },
  {
   "cell_type": "code",
   "execution_count": 11,
   "id": "da7582d4",
   "metadata": {
    "execution": {
     "iopub.execute_input": "2025-03-31T12:17:36.213694Z",
     "iopub.status.busy": "2025-03-31T12:17:36.212438Z",
     "iopub.status.idle": "2025-03-31T12:17:36.270771Z",
     "shell.execute_reply": "2025-03-31T12:17:36.269145Z"
    },
    "id": "uUUZa2uq2jDm",
    "papermill": {
     "duration": 0.075736,
     "end_time": "2025-03-31T12:17:36.273805",
     "exception": false,
     "start_time": "2025-03-31T12:17:36.198069",
     "status": "completed"
    },
    "tags": []
   },
   "outputs": [
    {
     "name": "stdout",
     "output_type": "stream",
     "text": [
      "models/chat-bison-001\n",
      "models/text-bison-001\n",
      "models/embedding-gecko-001\n",
      "models/gemini-1.0-pro-vision-latest\n",
      "models/gemini-pro-vision\n",
      "models/gemini-1.5-pro-latest\n",
      "models/gemini-1.5-pro-001\n",
      "models/gemini-1.5-pro-002\n",
      "models/gemini-1.5-pro\n",
      "models/gemini-1.5-flash-latest\n",
      "models/gemini-1.5-flash-001\n",
      "models/gemini-1.5-flash-001-tuning\n",
      "models/gemini-1.5-flash\n",
      "models/gemini-1.5-flash-002\n",
      "models/gemini-1.5-flash-8b\n",
      "models/gemini-1.5-flash-8b-001\n",
      "models/gemini-1.5-flash-8b-latest\n",
      "models/gemini-1.5-flash-8b-exp-0827\n",
      "models/gemini-1.5-flash-8b-exp-0924\n",
      "models/gemini-2.5-pro-exp-03-25\n",
      "models/gemini-2.0-flash-exp\n",
      "models/gemini-2.0-flash\n",
      "models/gemini-2.0-flash-001\n",
      "models/gemini-2.0-flash-exp-image-generation\n",
      "models/gemini-2.0-flash-lite-001\n",
      "models/gemini-2.0-flash-lite\n",
      "models/gemini-2.0-flash-lite-preview-02-05\n",
      "models/gemini-2.0-flash-lite-preview\n",
      "models/gemini-2.0-pro-exp\n",
      "models/gemini-2.0-pro-exp-02-05\n",
      "models/gemini-exp-1206\n",
      "models/gemini-2.0-flash-thinking-exp-01-21\n",
      "models/gemini-2.0-flash-thinking-exp\n",
      "models/gemini-2.0-flash-thinking-exp-1219\n",
      "models/learnlm-1.5-pro-experimental\n",
      "models/gemma-3-27b-it\n",
      "models/embedding-001\n",
      "models/text-embedding-004\n",
      "models/gemini-embedding-exp-03-07\n",
      "models/gemini-embedding-exp\n",
      "models/aqa\n",
      "models/imagen-3.0-generate-002\n"
     ]
    }
   ],
   "source": [
    "for model in client.models.list():\n",
    "  print(model.name)"
   ]
  },
  {
   "cell_type": "markdown",
   "id": "745e3696",
   "metadata": {
    "id": "rN49kSI54R1v",
    "papermill": {
     "duration": 0.013295,
     "end_time": "2025-03-31T12:17:36.301258",
     "exception": false,
     "start_time": "2025-03-31T12:17:36.287963",
     "status": "completed"
    },
    "tags": []
   },
   "source": [
    "The [`models.list`](https://ai.google.dev/api/models#method:-models.list) response also returns additional information about the model's capabilities, like the token limits and supported parameters."
   ]
  },
  {
   "cell_type": "code",
   "execution_count": 12,
   "id": "38dcb4d3",
   "metadata": {
    "execution": {
     "iopub.execute_input": "2025-03-31T12:17:36.330955Z",
     "iopub.status.busy": "2025-03-31T12:17:36.330568Z",
     "iopub.status.idle": "2025-03-31T12:17:36.448867Z",
     "shell.execute_reply": "2025-03-31T12:17:36.447349Z"
    },
    "id": "k7JJ1K6j4Rl8",
    "papermill": {
     "duration": 0.136694,
     "end_time": "2025-03-31T12:17:36.451736",
     "exception": false,
     "start_time": "2025-03-31T12:17:36.315042",
     "status": "completed"
    },
    "tags": []
   },
   "outputs": [
    {
     "name": "stdout",
     "output_type": "stream",
     "text": [
      "{'description': 'Gemini 2.0 Flash',\n",
      " 'display_name': 'Gemini 2.0 Flash',\n",
      " 'input_token_limit': 1048576,\n",
      " 'name': 'models/gemini-2.0-flash',\n",
      " 'output_token_limit': 8192,\n",
      " 'supported_actions': ['generateContent', 'countTokens'],\n",
      " 'tuned_model_info': {},\n",
      " 'version': '2.0'}\n"
     ]
    }
   ],
   "source": [
    "from pprint import pprint\n",
    "\n",
    "for model in client.models.list():\n",
    "  if model.name == 'models/gemini-2.0-flash':\n",
    "    pprint(model.to_json_dict())\n",
    "    break"
   ]
  },
  {
   "cell_type": "markdown",
   "id": "6c855f13",
   "metadata": {
    "id": "5rU_UBlZdooM",
    "papermill": {
     "duration": 0.013553,
     "end_time": "2025-03-31T12:17:36.479202",
     "exception": false,
     "start_time": "2025-03-31T12:17:36.465649",
     "status": "completed"
    },
    "tags": []
   },
   "source": [
    "## Explore generation parameters\n",
    "\n"
   ]
  },
  {
   "cell_type": "markdown",
   "id": "6051ed1b",
   "metadata": {
    "id": "G7NfEizeipbW",
    "papermill": {
     "duration": 0.013308,
     "end_time": "2025-03-31T12:17:36.506330",
     "exception": false,
     "start_time": "2025-03-31T12:17:36.493022",
     "status": "completed"
    },
    "tags": []
   },
   "source": [
    "### Output length\n",
    "\n",
    "When generating text with an LLM, the output length affects cost and performance. Generating more tokens increases computation, leading to higher energy consumption, latency, and cost.\n",
    "\n",
    "To stop the model from generating tokens past a limit, you can specify the `max_output_tokens` parameter when using the Gemini API. Specifying this parameter does not influence the generation of the output tokens, so the output will not become more stylistically or textually succinct, but it will stop generating tokens once the specified length is reached. Prompt engineering may be required to generate a more complete output for your given limit."
   ]
  },
  {
   "cell_type": "code",
   "execution_count": 13,
   "id": "cec01139",
   "metadata": {
    "execution": {
     "iopub.execute_input": "2025-03-31T12:17:36.535540Z",
     "iopub.status.busy": "2025-03-31T12:17:36.535183Z",
     "iopub.status.idle": "2025-03-31T12:17:37.993103Z",
     "shell.execute_reply": "2025-03-31T12:17:37.991579Z"
    },
    "id": "qVf23JsIi9ma",
    "papermill": {
     "duration": 1.476043,
     "end_time": "2025-03-31T12:17:37.996172",
     "exception": false,
     "start_time": "2025-03-31T12:17:36.520129",
     "status": "completed"
    },
    "tags": []
   },
   "outputs": [
    {
     "name": "stdout",
     "output_type": "stream",
     "text": [
      "## The Olive Branch Extends: The Enduring Importance of Olives in Modern Society\n",
      "\n",
      "The olive, a humble fruit born from the ancient olive tree (Olea europaea), has a history interwoven with the development of civilizations. From its biblical connotations of peace and prosperity to its culinary and medicinal applications, the olive has been a staple of Mediterranean life for millennia. While its presence might seem understated in a world saturated with globalized food trends, the olive remains remarkably important in modern society, playing a significant role in our diets, economies, cultures, and even our health.\n",
      "\n",
      "One of the most evident contributions of the olive lies in its culinary versatility. Beyond simply being a briny appetizer, olives are the foundation of countless dishes and ingredients. Olive oil, extracted from the fruit, is a cornerstone of Mediterranean cuisine, prized for its flavor, health benefits, and culinary applications. From drizzling over salads to sautéing vegetables to baking bread, olive oil adds a distinctive richness and depth of flavor that\n"
     ]
    }
   ],
   "source": [
    "from google.genai import types\n",
    "\n",
    "short_config = types.GenerateContentConfig(max_output_tokens=200)\n",
    "\n",
    "response = client.models.generate_content(\n",
    "    model='gemini-2.0-flash',\n",
    "    config=short_config,\n",
    "    contents='Write a 1000 word essay on the importance of olives in modern society.')\n",
    "\n",
    "print(response.text)"
   ]
  },
  {
   "cell_type": "code",
   "execution_count": 14,
   "id": "03ff8b8f",
   "metadata": {
    "execution": {
     "iopub.execute_input": "2025-03-31T12:17:38.036209Z",
     "iopub.status.busy": "2025-03-31T12:17:38.035617Z",
     "iopub.status.idle": "2025-03-31T12:17:38.977823Z",
     "shell.execute_reply": "2025-03-31T12:17:38.976409Z"
    },
    "id": "W-3kR2F5kdMR",
    "papermill": {
     "duration": 0.964613,
     "end_time": "2025-03-31T12:17:38.980583",
     "exception": false,
     "start_time": "2025-03-31T12:17:38.015970",
     "status": "completed"
    },
    "tags": []
   },
   "outputs": [
    {
     "name": "stdout",
     "output_type": "stream",
     "text": [
      "From groves of green to tables wide,\n",
      "An ancient fruit, a modern stride.\n",
      "In oils that gleam, a healthy grace,\n",
      "On pizzas tossed, a savory space.\n",
      "\n",
      "Tapenade spread, a salty bite,\n",
      "Or martini's gem, a welcome light.\n",
      "A Mediterranean heart we hold,\n",
      "In every olive, stories told.\n",
      "\n"
     ]
    }
   ],
   "source": [
    "response = client.models.generate_content(\n",
    "    model='gemini-2.0-flash',\n",
    "    config=short_config,\n",
    "    contents='Write a short poem on the importance of olives in modern society.')\n",
    "\n",
    "print(response.text)"
   ]
  },
  {
   "cell_type": "markdown",
   "id": "cccdf2c5",
   "metadata": {
    "id": "3ZhDSLB6lqqB",
    "papermill": {
     "duration": 0.020004,
     "end_time": "2025-03-31T12:17:39.015451",
     "exception": false,
     "start_time": "2025-03-31T12:17:38.995447",
     "status": "completed"
    },
    "tags": []
   },
   "source": [
    "Explore with your own prompts. Try a prompt with a restrictive output limit and then adjust the prompt to work within that limit."
   ]
  },
  {
   "cell_type": "markdown",
   "id": "07d52829",
   "metadata": {
    "id": "alx-WaAvir_9",
    "papermill": {
     "duration": 0.013525,
     "end_time": "2025-03-31T12:17:39.044230",
     "exception": false,
     "start_time": "2025-03-31T12:17:39.030705",
     "status": "completed"
    },
    "tags": []
   },
   "source": [
    "### Temperature\n",
    "\n",
    "Temperature controls the degree of randomness in token selection. Higher temperatures result in a higher number of candidate tokens from which the next output token is selected, and can produce more diverse results, while lower temperatures have the opposite effect, such that a temperature of 0 results in greedy decoding, selecting the most probable token at each step.\n",
    "\n",
    "Temperature doesn't provide any guarantees of randomness, but it can be used to \"nudge\" the output somewhat."
   ]
  },
  {
   "cell_type": "code",
   "execution_count": 15,
   "id": "c1394012",
   "metadata": {
    "execution": {
     "iopub.execute_input": "2025-03-31T12:17:39.073357Z",
     "iopub.status.busy": "2025-03-31T12:17:39.072896Z",
     "iopub.status.idle": "2025-03-31T12:17:41.133193Z",
     "shell.execute_reply": "2025-03-31T12:17:41.131816Z"
    },
    "id": "SHraGMzqnZqt",
    "papermill": {
     "duration": 2.078478,
     "end_time": "2025-03-31T12:17:41.136196",
     "exception": false,
     "start_time": "2025-03-31T12:17:39.057718",
     "status": "completed"
    },
    "tags": []
   },
   "outputs": [
    {
     "name": "stdout",
     "output_type": "stream",
     "text": [
      "Orange\n",
      " -------------------------\n",
      "Orange\n",
      " -------------------------\n",
      "Turquoise\n",
      " -------------------------\n",
      "Turquoise\n",
      " -------------------------\n",
      "Teal\n",
      " -------------------------\n"
     ]
    }
   ],
   "source": [
    "high_temp_config = types.GenerateContentConfig(temperature=2.0)\n",
    "\n",
    "\n",
    "for _ in range(5):\n",
    "  response = client.models.generate_content(\n",
    "      model='gemini-2.0-flash',\n",
    "      config=high_temp_config,\n",
    "      contents='Pick a random colour... (respond in a single word)')\n",
    "\n",
    "  if response.text:\n",
    "    print(response.text, '-' * 25)"
   ]
  },
  {
   "cell_type": "markdown",
   "id": "fbe388cc",
   "metadata": {
    "id": "z3J4pCTuof7e",
    "papermill": {
     "duration": 0.013979,
     "end_time": "2025-03-31T12:17:41.166026",
     "exception": false,
     "start_time": "2025-03-31T12:17:41.152047",
     "status": "completed"
    },
    "tags": []
   },
   "source": [
    "Now try the same prompt with temperature set to zero. Note that the output is not completely deterministic, as other parameters affect token selection, but the results will tend to be more stable."
   ]
  },
  {
   "cell_type": "code",
   "execution_count": 16,
   "id": "8e401170",
   "metadata": {
    "execution": {
     "iopub.execute_input": "2025-03-31T12:17:41.197460Z",
     "iopub.status.busy": "2025-03-31T12:17:41.197072Z",
     "iopub.status.idle": "2025-03-31T12:17:43.236678Z",
     "shell.execute_reply": "2025-03-31T12:17:43.234932Z"
    },
    "id": "clymkWv-PfUZ",
    "papermill": {
     "duration": 2.058565,
     "end_time": "2025-03-31T12:17:43.239607",
     "exception": false,
     "start_time": "2025-03-31T12:17:41.181042",
     "status": "completed"
    },
    "tags": []
   },
   "outputs": [
    {
     "name": "stdout",
     "output_type": "stream",
     "text": [
      "Azure\n",
      " -------------------------\n",
      "Azure\n",
      " -------------------------\n",
      "Azure\n",
      " -------------------------\n",
      "Azure\n",
      " -------------------------\n",
      "Azure\n",
      " -------------------------\n"
     ]
    }
   ],
   "source": [
    "low_temp_config = types.GenerateContentConfig(temperature=0.0)\n",
    "\n",
    "for _ in range(5):\n",
    "  response = client.models.generate_content(\n",
    "      model='gemini-2.0-flash',\n",
    "      config=low_temp_config,\n",
    "      contents='Pick a random colour... (respond in a single word)')\n",
    "\n",
    "  if response.text:\n",
    "    print(response.text, '-' * 25)"
   ]
  },
  {
   "cell_type": "markdown",
   "id": "a5f4a694",
   "metadata": {
    "id": "St5nt3vzitsZ",
    "papermill": {
     "duration": 0.014341,
     "end_time": "2025-03-31T12:17:43.269169",
     "exception": false,
     "start_time": "2025-03-31T12:17:43.254828",
     "status": "completed"
    },
    "tags": []
   },
   "source": [
    "### Top-P\n",
    "\n",
    "Like temperature, the top-P parameter is also used to control the diversity of the model's output.\n",
    "\n",
    "Top-P defines the probability threshold that, once cumulatively exceeded, tokens stop being selected as candidates. A top-P of 0 is typically equivalent to greedy decoding, and a top-P of 1 typically selects every token in the model's vocabulary.\n",
    "\n",
    "You may also see top-K referenced in LLM literature. Top-K is not configurable in the Gemini 2.0 series of models, but can be changed in older models. Top-K is a positive integer that defines the number of most probable tokens from which to select the output token. A top-K of 1 selects a single token, performing greedy decoding.\n",
    "\n",
    "\n",
    "Run this example a number of times, change the settings and observe the change in output."
   ]
  },
  {
   "cell_type": "code",
   "execution_count": 17,
   "id": "effcd9ff",
   "metadata": {
    "execution": {
     "iopub.execute_input": "2025-03-31T12:17:43.303421Z",
     "iopub.status.busy": "2025-03-31T12:17:43.303039Z",
     "iopub.status.idle": "2025-03-31T12:17:48.362126Z",
     "shell.execute_reply": "2025-03-31T12:17:48.360857Z"
    },
    "id": "lPlzpEavUV8F",
    "papermill": {
     "duration": 5.078567,
     "end_time": "2025-03-31T12:17:48.365056",
     "exception": false,
     "start_time": "2025-03-31T12:17:43.286489",
     "status": "completed"
    },
    "tags": []
   },
   "outputs": [
    {
     "name": "stdout",
     "output_type": "stream",
     "text": [
      "Jasper was no ordinary tabby. He wasn’t content batting at dust bunnies or basking in sunbeams. Jasper craved adventure. He’d spend hours perched on the windowsill, his emerald eyes fixed on the rustling leaves of the ancient oak tree in the backyard, imagining himself a swashbuckling pirate sailing the leafy seas.\n",
      "\n",
      "One particularly bold Tuesday, as the morning sun painted stripes across the kitchen floor, Jasper made his decision. He would explore beyond the familiar borders of his garden fence. He waited for his human, Emily, to leave for school, her backpack bouncing jauntily against her back. Then, with a flick of his striped tail, he squeezed through a gap in the fence, a tiny, furry explorer setting sail on his grand adventure.\n",
      "\n",
      "The world outside was a symphony of smells and sounds. The scent of freshly cut grass mingled with the earthy aroma of damp soil. Birds chirped melodies he'd only heard snippets of through the window. He stalked through overgrown weeds, feeling like a lion navigating the savanna.\n",
      "\n",
      "His journey led him to a bustling alleyway, a maze of overflowing bins and shadowy corners. A gruff-looking ginger tomcat with a torn ear and a swagger in his step blocked his path. \"Well, well, well,\" the tomcat growled, his voice a low rumble. \"What have we here? A pampered house cat straying into my territory?\"\n",
      "\n",
      "Jasper, though initially intimidated, puffed out his chest. He may have been a house cat, but he was an adventurous one. \"I'm exploring,\" he announced, trying to sound braver than he felt. \"I'm not looking for trouble.\"\n",
      "\n",
      "The ginger tomcat, whose name Jasper later learned was Rusty, sized him up. Something about Jasper's earnest gaze and his unwavering (though slightly trembling) stance must have softened him. \"Alright, kit,\" Rusty grumbled, stepping aside. \"Just stay out of my way. And watch out for Mrs. Higgins' chihuahua. That thing bites.\"\n",
      "\n",
      "Heeding Rusty's warning, Jasper cautiously navigated the alley. He discovered a discarded fishbone, the tastiest thing he'd ever eaten. He befriended a family of sparrows who shared gossip about the neighborhood. He even managed to evade the aforementioned chihuahua, a tiny, yapping menace with a Napoleon complex.\n",
      "\n",
      "As the sun began to dip below the horizon, painting the sky in hues of orange and purple, Jasper started to feel a pang of longing for his warm bed and Emily's gentle touch. He found Rusty again, lounging on a pile of cardboard boxes.\n",
      "\n",
      "\"Going home, kit?\" Rusty asked, a surprisingly gentle tone in his voice.\n",
      "\n",
      "Jasper nodded. \"It was a good adventure, but I miss my human.\"\n",
      "\n",
      "Rusty chuckled. \"Adventure's good for the soul. But a warm lap is hard to beat.\"\n",
      "\n",
      "Jasper retraced his steps, guided by the familiar scent of his own garden. Squeezing back through the fence, he saw Emily waiting on the porch, her face etched with worry.\n",
      "\n",
      "\"Jasper!\" she cried, scooping him into her arms. \"Where have you been? I was so worried!\"\n",
      "\n",
      "He purred against her neck, rubbing his head against her chin. He was home. And though he wouldn't trade the thrill of his adventure for anything, there was truly no place like the safety and comfort of Emily's embrace. He knew, deep in his heart, that this wouldn't be his last adventure, but for now, he was content to be a pampered house cat, a secret adventurer dreaming of the next leafy sea he would sail. And Emily, none the wiser to his escapade, just stroked his soft fur and whispered, \"You naughty boy, don't ever do that again.\"\n",
      "\n"
     ]
    }
   ],
   "source": [
    "model_config = types.GenerateContentConfig(\n",
    "    # These are the default values for gemini-2.0-flash.\n",
    "    temperature=1.0,\n",
    "    top_p=0.95,\n",
    ")\n",
    "\n",
    "story_prompt = \"You are a creative writer. Write a short story about a cat who goes on an adventure.\"\n",
    "response = client.models.generate_content(\n",
    "    model='gemini-2.0-flash',\n",
    "    config=model_config,\n",
    "    contents=story_prompt)\n",
    "\n",
    "print(response.text)"
   ]
  },
  {
   "cell_type": "markdown",
   "id": "6cc47419",
   "metadata": {
    "id": "rMrYs1koY6DX",
    "papermill": {
     "duration": 0.014015,
     "end_time": "2025-03-31T12:17:48.395764",
     "exception": false,
     "start_time": "2025-03-31T12:17:48.381749",
     "status": "completed"
    },
    "tags": []
   },
   "source": [
    "## Prompting\n",
    "\n",
    "This section contains some prompts from the chapter for you to try out directly in the API. Try changing the text here to see how each prompt performs with different instructions, more examples, or any other changes you can think of."
   ]
  },
  {
   "cell_type": "markdown",
   "id": "149adadc",
   "metadata": {
    "id": "hhj_tQidZJP7",
    "papermill": {
     "duration": 0.014033,
     "end_time": "2025-03-31T12:17:48.423773",
     "exception": false,
     "start_time": "2025-03-31T12:17:48.409740",
     "status": "completed"
    },
    "tags": []
   },
   "source": [
    "### Zero-shot\n",
    "\n",
    "Zero-shot prompts are prompts that describe the request for the model directly.\n",
    "\n",
    "<table align=left>\n",
    "  <td>\n",
    "    <a target=\"_blank\" href=\"https://aistudio.google.com/prompts/1gzKKgDHwkAvexG5Up0LMtl1-6jKMKe4g\"><img src=\"https://ai.google.dev/site-assets/images/marketing/home/icon-ais.png\" style=\"height: 24px\" height=24/> Open in AI Studio</a>\n",
    "  </td>\n",
    "</table>"
   ]
  },
  {
   "cell_type": "code",
   "execution_count": 18,
   "id": "a3b04122",
   "metadata": {
    "execution": {
     "iopub.execute_input": "2025-03-31T12:17:48.454281Z",
     "iopub.status.busy": "2025-03-31T12:17:48.453911Z",
     "iopub.status.idle": "2025-03-31T12:17:48.809733Z",
     "shell.execute_reply": "2025-03-31T12:17:48.808457Z"
    },
    "id": "1_t-cwnDZzbH",
    "papermill": {
     "duration": 0.374604,
     "end_time": "2025-03-31T12:17:48.812608",
     "exception": false,
     "start_time": "2025-03-31T12:17:48.438004",
     "status": "completed"
    },
    "tags": []
   },
   "outputs": [
    {
     "name": "stdout",
     "output_type": "stream",
     "text": [
      "POSITIVE\n",
      "\n"
     ]
    }
   ],
   "source": [
    "model_config = types.GenerateContentConfig(\n",
    "    temperature=0.1,\n",
    "    top_p=1,\n",
    "    max_output_tokens=5,\n",
    ")\n",
    "\n",
    "zero_shot_prompt = \"\"\"Classify movie reviews as POSITIVE, NEUTRAL or NEGATIVE.\n",
    "Review: \"Her\" is a disturbing study revealing the direction\n",
    "humanity is headed if AI is allowed to keep evolving,\n",
    "unchecked. I wish there were more movies like this masterpiece.\n",
    "Sentiment: \"\"\"\n",
    "\n",
    "response = client.models.generate_content(\n",
    "    model='gemini-2.0-flash',\n",
    "    config=model_config,\n",
    "    contents=zero_shot_prompt)\n",
    "\n",
    "print(response.text)"
   ]
  },
  {
   "cell_type": "markdown",
   "id": "a8d144bd",
   "metadata": {
    "id": "3b5568bdeb11",
    "papermill": {
     "duration": 0.014228,
     "end_time": "2025-03-31T12:17:48.841565",
     "exception": false,
     "start_time": "2025-03-31T12:17:48.827337",
     "status": "completed"
    },
    "tags": []
   },
   "source": [
    "#### Enum mode\n",
    "\n",
    "The models are trained to generate text, and while the Gemini 2.0 models are great at following instructions, other models can sometimes produce more text than you may wish for. In the preceding example, the model will output the label, but sometimes it can include a preceding \"Sentiment\" label, and without an output token limit, it may also add explanatory text afterwards. See [this prompt in AI Studio](https://aistudio.google.com/prompts/1gzKKgDHwkAvexG5Up0LMtl1-6jKMKe4g) for an example.\n",
    "\n",
    "The Gemini API has an [Enum mode](https://github.com/google-gemini/cookbook/blob/main/quickstarts/Enum.ipynb) feature that allows you to constrain the output to a fixed set of values."
   ]
  },
  {
   "cell_type": "code",
   "execution_count": 19,
   "id": "75cc5da9",
   "metadata": {
    "execution": {
     "iopub.execute_input": "2025-03-31T12:17:48.873842Z",
     "iopub.status.busy": "2025-03-31T12:17:48.873442Z",
     "iopub.status.idle": "2025-03-31T12:17:49.379004Z",
     "shell.execute_reply": "2025-03-31T12:17:49.377671Z"
    },
    "id": "ad118a56c598",
    "papermill": {
     "duration": 0.525673,
     "end_time": "2025-03-31T12:17:49.382967",
     "exception": false,
     "start_time": "2025-03-31T12:17:48.857294",
     "status": "completed"
    },
    "tags": []
   },
   "outputs": [
    {
     "name": "stdout",
     "output_type": "stream",
     "text": [
      "positive\n"
     ]
    }
   ],
   "source": [
    "import enum\n",
    "\n",
    "class Sentiment(enum.Enum):\n",
    "    POSITIVE = \"positive\"\n",
    "    NEUTRAL = \"neutral\"\n",
    "    NEGATIVE = \"negative\"\n",
    "\n",
    "\n",
    "response = client.models.generate_content(\n",
    "    model='gemini-2.0-flash',\n",
    "    config=types.GenerateContentConfig(\n",
    "        response_mime_type=\"text/x.enum\",\n",
    "        response_schema=Sentiment\n",
    "    ),\n",
    "    contents=zero_shot_prompt)\n",
    "\n",
    "print(response.text)"
   ]
  },
  {
   "cell_type": "markdown",
   "id": "b59fad78",
   "metadata": {
    "papermill": {
     "duration": 0.013713,
     "end_time": "2025-03-31T12:17:49.413522",
     "exception": false,
     "start_time": "2025-03-31T12:17:49.399809",
     "status": "completed"
    },
    "tags": []
   },
   "source": [
    "When using constrained output like an enum, the Python SDK will attempt to convert the model's text response into a Python object automatically. It's stored in the `response.parsed` field."
   ]
  },
  {
   "cell_type": "code",
   "execution_count": 20,
   "id": "a120f149",
   "metadata": {
    "execution": {
     "iopub.execute_input": "2025-03-31T12:17:49.443729Z",
     "iopub.status.busy": "2025-03-31T12:17:49.443359Z",
     "iopub.status.idle": "2025-03-31T12:17:49.449240Z",
     "shell.execute_reply": "2025-03-31T12:17:49.448048Z"
    },
    "papermill": {
     "duration": 0.024006,
     "end_time": "2025-03-31T12:17:49.451862",
     "exception": false,
     "start_time": "2025-03-31T12:17:49.427856",
     "status": "completed"
    },
    "tags": []
   },
   "outputs": [
    {
     "name": "stdout",
     "output_type": "stream",
     "text": [
      "Sentiment.POSITIVE\n",
      "<enum 'Sentiment'>\n"
     ]
    }
   ],
   "source": [
    "enum_response = response.parsed\n",
    "print(enum_response)\n",
    "print(type(enum_response))"
   ]
  },
  {
   "cell_type": "markdown",
   "id": "7d998b3c",
   "metadata": {
    "id": "0udiSwNbv45W",
    "papermill": {
     "duration": 0.014187,
     "end_time": "2025-03-31T12:17:49.480198",
     "exception": false,
     "start_time": "2025-03-31T12:17:49.466011",
     "status": "completed"
    },
    "tags": []
   },
   "source": [
    "### One-shot and few-shot\n",
    "\n",
    "Providing an example of the expected response is known as a \"one-shot\" prompt. When you provide multiple examples, it is a \"few-shot\" prompt.\n",
    "\n",
    "<table align=left>\n",
    "  <td>\n",
    "    <a target=\"_blank\" href=\"https://aistudio.google.com/prompts/1jjWkjUSoMXmLvMJ7IzADr_GxHPJVV2bg\"><img src=\"https://ai.google.dev/site-assets/images/marketing/home/icon-ais.png\" style=\"height: 24px\" height=24/> Open in AI Studio</a>\n",
    "  </td>\n",
    "</table>\n"
   ]
  },
  {
   "cell_type": "code",
   "execution_count": 21,
   "id": "0275e5de",
   "metadata": {
    "execution": {
     "iopub.execute_input": "2025-03-31T12:17:49.511254Z",
     "iopub.status.busy": "2025-03-31T12:17:49.510739Z",
     "iopub.status.idle": "2025-03-31T12:17:49.938943Z",
     "shell.execute_reply": "2025-03-31T12:17:49.937757Z"
    },
    "id": "hd4mVUukwOKZ",
    "papermill": {
     "duration": 0.446797,
     "end_time": "2025-03-31T12:17:49.941565",
     "exception": false,
     "start_time": "2025-03-31T12:17:49.494768",
     "status": "completed"
    },
    "tags": []
   },
   "outputs": [
    {
     "name": "stdout",
     "output_type": "stream",
     "text": [
      "```json\n",
      "{\n",
      "\"size\": \"large\",\n",
      "\"type\": \"normal\",\n",
      "\"ingredients\": [\"cheese\", \"pineapple\"]\n",
      "}\n",
      "```\n",
      "\n"
     ]
    }
   ],
   "source": [
    "few_shot_prompt = \"\"\"Parse a customer's pizza order into valid JSON:\n",
    "\n",
    "EXAMPLE:\n",
    "I want a small pizza with cheese, tomato sauce, and pepperoni.\n",
    "JSON Response:\n",
    "```\n",
    "{\n",
    "\"size\": \"small\",\n",
    "\"type\": \"normal\",\n",
    "\"ingredients\": [\"cheese\", \"tomato sauce\", \"pepperoni\"]\n",
    "}\n",
    "```\n",
    "\n",
    "EXAMPLE:\n",
    "Can I get a large pizza with tomato sauce, basil and mozzarella\n",
    "JSON Response:\n",
    "```\n",
    "{\n",
    "\"size\": \"large\",\n",
    "\"type\": \"normal\",\n",
    "\"ingredients\": [\"tomato sauce\", \"basil\", \"mozzarella\"]\n",
    "}\n",
    "```\n",
    "\n",
    "ORDER:\n",
    "\"\"\"\n",
    "\n",
    "customer_order = \"Give me a large with cheese & pineapple\"\n",
    "\n",
    "response = client.models.generate_content(\n",
    "    model='gemini-2.0-flash',\n",
    "    config=types.GenerateContentConfig(\n",
    "        temperature=0.1,\n",
    "        top_p=1,\n",
    "        max_output_tokens=250,\n",
    "    ),\n",
    "    contents=[few_shot_prompt, customer_order])\n",
    "\n",
    "print(response.text)"
   ]
  },
  {
   "cell_type": "markdown",
   "id": "3dfd333a",
   "metadata": {
    "id": "021293096f08",
    "papermill": {
     "duration": 0.014523,
     "end_time": "2025-03-31T12:17:49.970928",
     "exception": false,
     "start_time": "2025-03-31T12:17:49.956405",
     "status": "completed"
    },
    "tags": []
   },
   "source": [
    "#### JSON mode\n",
    "\n",
    "To provide control over the schema, and to ensure that you only receive JSON (with no other text or markdown), you can use the Gemini API's [JSON mode](https://github.com/google-gemini/cookbook/blob/main/quickstarts/JSON_mode.ipynb). This forces the model to constrain decoding, such that token selection is guided by the supplied schema."
   ]
  },
  {
   "cell_type": "code",
   "execution_count": 22,
   "id": "698e3d11",
   "metadata": {
    "execution": {
     "iopub.execute_input": "2025-03-31T12:17:50.002873Z",
     "iopub.status.busy": "2025-03-31T12:17:50.002334Z",
     "iopub.status.idle": "2025-03-31T12:17:50.565878Z",
     "shell.execute_reply": "2025-03-31T12:17:50.564492Z"
    },
    "id": "50fbf0260912",
    "papermill": {
     "duration": 0.583755,
     "end_time": "2025-03-31T12:17:50.569024",
     "exception": false,
     "start_time": "2025-03-31T12:17:49.985269",
     "status": "completed"
    },
    "tags": []
   },
   "outputs": [
    {
     "name": "stdout",
     "output_type": "stream",
     "text": [
      "{\n",
      "  \"size\": \"large\",\n",
      "  \"ingredients\": [\"apple\", \"chocolate\"],\n",
      "  \"type\": \"dessert\"\n",
      "}\n"
     ]
    }
   ],
   "source": [
    "import typing_extensions as typing\n",
    "\n",
    "class PizzaOrder(typing.TypedDict):\n",
    "    size: str\n",
    "    ingredients: list[str]\n",
    "    type: str\n",
    "\n",
    "\n",
    "response = client.models.generate_content(\n",
    "    model='gemini-2.0-flash',\n",
    "    config=types.GenerateContentConfig(\n",
    "        temperature=0.1,\n",
    "        response_mime_type=\"application/json\",\n",
    "        response_schema=PizzaOrder,\n",
    "    ),\n",
    "    contents=\"Can I have a large dessert pizza with apple and chocolate\")\n",
    "\n",
    "print(response.text)"
   ]
  },
  {
   "cell_type": "markdown",
   "id": "07ecd800",
   "metadata": {
    "id": "4a93e338e57c",
    "papermill": {
     "duration": 0.015098,
     "end_time": "2025-03-31T12:17:50.599548",
     "exception": false,
     "start_time": "2025-03-31T12:17:50.584450",
     "status": "completed"
    },
    "tags": []
   },
   "source": [
    "### Chain of Thought (CoT)\n",
    "\n",
    "Direct prompting on LLMs can return answers quickly and (in terms of output token usage) efficiently, but they can be prone to hallucination. The answer may \"look\" correct (in terms of language and syntax) but is incorrect in terms of factuality and reasoning.\n",
    "\n",
    "Chain-of-Thought prompting is a technique where you instruct the model to output intermediate reasoning steps, and it typically gets better results, especially when combined with few-shot examples. It is worth noting that this technique doesn't completely eliminate hallucinations, and that it tends to cost more to run, due to the increased token count.\n",
    "\n",
    "Models like the Gemini family are trained to be \"chatty\" or \"thoughtful\" and will provide reasoning steps without prompting, so for this simple example you can ask the model to be more direct in the prompt to force a non-reasoning response. Try re-running this step if the model gets lucky and gets the answer correct on the first try."
   ]
  },
  {
   "cell_type": "code",
   "execution_count": 23,
   "id": "974a87a4",
   "metadata": {
    "execution": {
     "iopub.execute_input": "2025-03-31T12:17:50.631642Z",
     "iopub.status.busy": "2025-03-31T12:17:50.631240Z",
     "iopub.status.idle": "2025-03-31T12:17:50.960514Z",
     "shell.execute_reply": "2025-03-31T12:17:50.959184Z"
    },
    "id": "5715555db1c1",
    "papermill": {
     "duration": 0.348475,
     "end_time": "2025-03-31T12:17:50.963097",
     "exception": false,
     "start_time": "2025-03-31T12:17:50.614622",
     "status": "completed"
    },
    "tags": []
   },
   "outputs": [
    {
     "name": "stdout",
     "output_type": "stream",
     "text": [
      "48\n",
      "\n"
     ]
    }
   ],
   "source": [
    "prompt = \"\"\"When I was 4 years old, my partner was 3 times my age. Now, I\n",
    "am 20 years old. How old is my partner? Return the answer directly.\"\"\"\n",
    "\n",
    "response = client.models.generate_content(\n",
    "    model='gemini-2.0-flash',\n",
    "    contents=prompt)\n",
    "\n",
    "print(response.text)"
   ]
  },
  {
   "cell_type": "markdown",
   "id": "53fd2210",
   "metadata": {
    "id": "e12b19677bfd",
    "papermill": {
     "duration": 0.01469,
     "end_time": "2025-03-31T12:17:50.992712",
     "exception": false,
     "start_time": "2025-03-31T12:17:50.978022",
     "status": "completed"
    },
    "tags": []
   },
   "source": [
    "Now try the same approach, but indicate to the model that it should \"think step by step\"."
   ]
  },
  {
   "cell_type": "code",
   "execution_count": 24,
   "id": "8a2cae40",
   "metadata": {
    "execution": {
     "iopub.execute_input": "2025-03-31T12:17:51.031682Z",
     "iopub.status.busy": "2025-03-31T12:17:51.031267Z",
     "iopub.status.idle": "2025-03-31T12:17:51.907971Z",
     "shell.execute_reply": "2025-03-31T12:17:51.906492Z"
    },
    "id": "ffd7536a481f",
    "papermill": {
     "duration": 0.897583,
     "end_time": "2025-03-31T12:17:51.910682",
     "exception": false,
     "start_time": "2025-03-31T12:17:51.013099",
     "status": "completed"
    },
    "tags": []
   },
   "outputs": [
    {
     "data": {
      "text/markdown": [
       "Here's how to solve the problem:\n",
       "\n",
       "1. **Find the age difference:** When you were 4, your partner was 3 * 4 = 12 years old.\n",
       "2. **Calculate the age difference:** The age difference between you and your partner is 12 - 4 = 8 years.\n",
       "3. **Determine the partner's current age:** Since the age difference remains the same, your partner is currently 20 + 8 = 28 years old.\n",
       "\n",
       "**Answer:** Your partner is 28 years old.\n"
      ],
      "text/plain": [
       "<IPython.core.display.Markdown object>"
      ]
     },
     "execution_count": 24,
     "metadata": {},
     "output_type": "execute_result"
    }
   ],
   "source": [
    "prompt = \"\"\"When I was 4 years old, my partner was 3 times my age. Now,\n",
    "I am 20 years old. How old is my partner? Let's think step by step.\"\"\"\n",
    "\n",
    "response = client.models.generate_content(\n",
    "    model='gemini-2.0-flash',\n",
    "    contents=prompt)\n",
    "\n",
    "Markdown(response.text)"
   ]
  },
  {
   "cell_type": "markdown",
   "id": "68baf5b0",
   "metadata": {
    "id": "oiLgBQJj0V53",
    "papermill": {
     "duration": 0.014391,
     "end_time": "2025-03-31T12:17:51.940552",
     "exception": false,
     "start_time": "2025-03-31T12:17:51.926161",
     "status": "completed"
    },
    "tags": []
   },
   "source": [
    "### ReAct: Reason and act\n",
    "\n",
    "In this example you will run a ReAct prompt directly in the Gemini API and perform the searching steps yourself. As this prompt follows a well-defined structure, there are frameworks available that wrap the prompt into easier-to-use APIs that make tool calls automatically, such as the LangChain example from the \"Prompting\" whitepaper.\n",
    "\n",
    "To try this out with the Wikipedia search engine, check out the [Searching Wikipedia with ReAct](https://github.com/google-gemini/cookbook/blob/main/examples/Search_Wikipedia_using_ReAct.ipynb) cookbook example.\n",
    "\n",
    "\n",
    "> Note: The prompt and in-context examples used here are from [https://github.com/ysymyth/ReAct](https://github.com/ysymyth/ReAct) which is published under an [MIT license](https://opensource.org/licenses/MIT), Copyright (c) 2023 Shunyu Yao.\n",
    "\n",
    "<table align=left>\n",
    "  <td>\n",
    "    <a target=\"_blank\" href=\"https://aistudio.google.com/prompts/18oo63Lwosd-bQ6Ay51uGogB3Wk3H8XMO\"><img src=\"https://ai.google.dev/site-assets/images/marketing/home/icon-ais.png\" style=\"height: 24px\" height=24/> Open in AI Studio</a>\n",
    "  </td>\n",
    "</table>\n"
   ]
  },
  {
   "cell_type": "code",
   "execution_count": 25,
   "id": "5228b143",
   "metadata": {
    "execution": {
     "iopub.execute_input": "2025-03-31T12:17:51.973056Z",
     "iopub.status.busy": "2025-03-31T12:17:51.971851Z",
     "iopub.status.idle": "2025-03-31T12:17:51.979238Z",
     "shell.execute_reply": "2025-03-31T12:17:51.978137Z"
    },
    "id": "cBgyNJ5z0VSs",
    "papermill": {
     "duration": 0.026685,
     "end_time": "2025-03-31T12:17:51.981929",
     "exception": false,
     "start_time": "2025-03-31T12:17:51.955244",
     "status": "completed"
    },
    "tags": []
   },
   "outputs": [],
   "source": [
    "model_instructions = \"\"\"\n",
    "Solve a question answering task with interleaving Thought, Action, Observation steps. Thought can reason about the current situation,\n",
    "Observation is understanding relevant information from an Action's output and Action can be one of three types:\n",
    " (1) <search>entity</search>, which searches the exact entity on Wikipedia and returns the first paragraph if it exists. If not, it\n",
    "     will return some similar entities to search and you can try to search the information from those topics.\n",
    " (2) <lookup>keyword</lookup>, which returns the next sentence containing keyword in the current context. This only does exact matches,\n",
    "     so keep your searches short.\n",
    " (3) <finish>answer</finish>, which returns the answer and finishes the task.\n",
    "\"\"\"\n",
    "\n",
    "example1 = \"\"\"Question\n",
    "Musician and satirist Allie Goertz wrote a song about the \"The Simpsons\" character Milhouse, who Matt Groening named after who?\n",
    "\n",
    "Thought 1\n",
    "The question simplifies to \"The Simpsons\" character Milhouse is named after who. I only need to search Milhouse and find who it is named after.\n",
    "\n",
    "Action 1\n",
    "<search>Milhouse</search>\n",
    "\n",
    "Observation 1\n",
    "Milhouse Mussolini Van Houten is a recurring character in the Fox animated television series The Simpsons voiced by Pamela Hayden and created by Matt Groening.\n",
    "\n",
    "Thought 2\n",
    "The paragraph does not tell who Milhouse is named after, maybe I can look up \"named after\".\n",
    "\n",
    "Action 2\n",
    "<lookup>named after</lookup>\n",
    "\n",
    "Observation 2\n",
    "Milhouse was named after U.S. president Richard Nixon, whose middle name was Milhous.\n",
    "\n",
    "Thought 3\n",
    "Milhouse was named after U.S. president Richard Nixon, so the answer is Richard Nixon.\n",
    "\n",
    "Action 3\n",
    "<finish>Richard Nixon</finish>\n",
    "\"\"\"\n",
    "\n",
    "example2 = \"\"\"Question\n",
    "What is the elevation range for the area that the eastern sector of the Colorado orogeny extends into?\n",
    "\n",
    "Thought 1\n",
    "I need to search Colorado orogeny, find the area that the eastern sector of the Colorado orogeny extends into, then find the elevation range of the area.\n",
    "\n",
    "Action 1\n",
    "<search>Colorado orogeny</search>\n",
    "\n",
    "Observation 1\n",
    "The Colorado orogeny was an episode of mountain building (an orogeny) in Colorado and surrounding areas.\n",
    "\n",
    "Thought 2\n",
    "It does not mention the eastern sector. So I need to look up eastern sector.\n",
    "\n",
    "Action 2\n",
    "<lookup>eastern sector</lookup>\n",
    "\n",
    "Observation 2\n",
    "The eastern sector extends into the High Plains and is called the Central Plains orogeny.\n",
    "\n",
    "Thought 3\n",
    "The eastern sector of Colorado orogeny extends into the High Plains. So I need to search High Plains and find its elevation range.\n",
    "\n",
    "Action 3\n",
    "<search>High Plains</search>\n",
    "\n",
    "Observation 3\n",
    "High Plains refers to one of two distinct land regions\n",
    "\n",
    "Thought 4\n",
    "I need to instead search High Plains (United States).\n",
    "\n",
    "Action 4\n",
    "<search>High Plains (United States)</search>\n",
    "\n",
    "Observation 4\n",
    "The High Plains are a subregion of the Great Plains. From east to west, the High Plains rise in elevation from around 1,800 to 7,000 ft (550 to 2,130m).\n",
    "\n",
    "Thought 5\n",
    "High Plains rise in elevation from around 1,800 to 7,000 ft, so the answer is 1,800 to 7,000 ft.\n",
    "\n",
    "Action 5\n",
    "<finish>1,800 to 7,000 ft</finish>\n",
    "\"\"\"\n",
    "\n",
    "# Come up with more examples yourself, or take a look through https://github.com/ysymyth/ReAct/"
   ]
  },
  {
   "cell_type": "markdown",
   "id": "3f50913a",
   "metadata": {
    "id": "C3wbfstjTgey",
    "papermill": {
     "duration": 0.021545,
     "end_time": "2025-03-31T12:17:52.019899",
     "exception": false,
     "start_time": "2025-03-31T12:17:51.998354",
     "status": "completed"
    },
    "tags": []
   },
   "source": [
    "To capture a single step at a time, while ignoring any hallucinated Observation steps, you will use `stop_sequences` to end the generation process. The steps are `Thought`, `Action`, `Observation`, in that order."
   ]
  },
  {
   "cell_type": "code",
   "execution_count": 26,
   "id": "6d2d72f0",
   "metadata": {
    "execution": {
     "iopub.execute_input": "2025-03-31T12:17:52.053577Z",
     "iopub.status.busy": "2025-03-31T12:17:52.052625Z",
     "iopub.status.idle": "2025-03-31T12:17:52.522210Z",
     "shell.execute_reply": "2025-03-31T12:17:52.521052Z"
    },
    "id": "8mxrXRkRTdXm",
    "papermill": {
     "duration": 0.489532,
     "end_time": "2025-03-31T12:17:52.524879",
     "exception": false,
     "start_time": "2025-03-31T12:17:52.035347",
     "status": "completed"
    },
    "tags": []
   },
   "outputs": [
    {
     "name": "stdout",
     "output_type": "stream",
     "text": [
      "Thought 1\n",
      "I need to find the transformers NLP paper and then find the youngest author listed.\n",
      "\n",
      "Action 1\n",
      "<search>transformers NLP paper</search>\n",
      "\n"
     ]
    }
   ],
   "source": [
    "question = \"\"\"Question\n",
    "Who was the youngest author listed on the transformers NLP paper?\n",
    "\"\"\"\n",
    "\n",
    "# You will perform the Action; so generate up to, but not including, the Observation.\n",
    "react_config = types.GenerateContentConfig(\n",
    "    stop_sequences=[\"\\nObservation\"],\n",
    "    system_instruction=model_instructions + example1 + example2,\n",
    ")\n",
    "\n",
    "# Create a chat that has the model instructions and examples pre-seeded.\n",
    "react_chat = client.chats.create(\n",
    "    model='gemini-2.0-flash',\n",
    "    config=react_config,\n",
    ")\n",
    "\n",
    "resp = react_chat.send_message(question)\n",
    "print(resp.text)"
   ]
  },
  {
   "cell_type": "markdown",
   "id": "3a85f9b1",
   "metadata": {
    "id": "aW2PIdLbVv3l",
    "papermill": {
     "duration": 0.014703,
     "end_time": "2025-03-31T12:17:52.555672",
     "exception": false,
     "start_time": "2025-03-31T12:17:52.540969",
     "status": "completed"
    },
    "tags": []
   },
   "source": [
    "Now you can perform this research yourself and supply it back to the model."
   ]
  },
  {
   "cell_type": "code",
   "execution_count": 27,
   "id": "57a8a1ab",
   "metadata": {
    "execution": {
     "iopub.execute_input": "2025-03-31T12:17:52.587614Z",
     "iopub.status.busy": "2025-03-31T12:17:52.587217Z",
     "iopub.status.idle": "2025-03-31T12:17:53.448407Z",
     "shell.execute_reply": "2025-03-31T12:17:53.447074Z"
    },
    "id": "mLMc0DZaV9g2",
    "papermill": {
     "duration": 0.88091,
     "end_time": "2025-03-31T12:17:53.451649",
     "exception": false,
     "start_time": "2025-03-31T12:17:52.570739",
     "status": "completed"
    },
    "tags": []
   },
   "outputs": [
    {
     "name": "stdout",
     "output_type": "stream",
     "text": [
      "Thought 2\n",
      "I have the authors of the paper. I need to find the youngest author among Ashish Vaswani, Noam Shazeer, Niki Parmar, Jakob Uszkoreit, Llion Jones, Aidan N. Gomez, Lukasz Kaiser, Illia Polosukhin. I will search each of them to find their age and then determine who is the youngest.\n",
      "\n",
      "Action 2\n",
      "<search>Ashish Vaswani</search>\n",
      "\n"
     ]
    }
   ],
   "source": [
    "observation = \"\"\"Observation 1\n",
    "[1706.03762] Attention Is All You Need\n",
    "Ashish Vaswani, Noam Shazeer, Niki Parmar, Jakob Uszkoreit, Llion Jones, Aidan N. Gomez, Lukasz Kaiser, Illia Polosukhin\n",
    "We propose a new simple network architecture, the Transformer, based solely on attention mechanisms, dispensing with recurrence and convolutions entirely.\n",
    "\"\"\"\n",
    "resp = react_chat.send_message(observation)\n",
    "print(resp.text)"
   ]
  },
  {
   "cell_type": "markdown",
   "id": "d2ee0c64",
   "metadata": {
    "id": "bo0tzf4nX6dA",
    "papermill": {
     "duration": 0.01668,
     "end_time": "2025-03-31T12:17:53.485392",
     "exception": false,
     "start_time": "2025-03-31T12:17:53.468712",
     "status": "completed"
    },
    "tags": []
   },
   "source": [
    "This process repeats until the `<finish>` action is reached. You can continue running this yourself if you like, or try the [Wikipedia example](https://github.com/google-gemini/cookbook/blob/main/examples/Search_Wikipedia_using_ReAct.ipynb) to see a fully automated ReAct system at work."
   ]
  },
  {
   "cell_type": "markdown",
   "id": "b98d1ea4",
   "metadata": {
    "papermill": {
     "duration": 0.015129,
     "end_time": "2025-03-31T12:17:53.516073",
     "exception": false,
     "start_time": "2025-03-31T12:17:53.500944",
     "status": "completed"
    },
    "tags": []
   },
   "source": [
    "## Thinking mode\n",
    "\n",
    "The experiemental Gemini Flash 2.0 \"Thinking\" model has been trained to generate the \"thinking process\" the model goes through as part of its response. As a result, the Flash Thinking model is capable of stronger reasoning capabilities in its responses.\n",
    "\n",
    "Using a \"thinking mode\" model can provide you with high-quality responses without needing specialised prompting like the previous approaches. One reason this technique is effective is that you induce the model to generate relevant information (\"brainstorming\", or \"thoughts\") that is then used as part of the context in which the final response is generated.\n",
    "\n",
    "Note that when you use the API, you get the final response from the model, but the thoughts are not captured. To see the intermediate thoughts, try out [the thinking mode model in AI Studio](https://aistudio.google.com/prompts/new_chat?model=gemini-2.0-flash-thinking-exp-01-21).\n",
    "\n",
    "<table align=left>\n",
    "  <td>\n",
    "    <a target=\"_blank\" href=\"https://aistudio.google.com/prompts/1Z991SV7lZZZqioOiqIUPv9a9ix-ws4zk\"><img src=\"https://ai.google.dev/site-assets/images/marketing/home/icon-ais.png\" style=\"height: 24px\" height=24/> Open in AI Studio</a>\n",
    "  </td>\n",
    "</table>"
   ]
  },
  {
   "cell_type": "code",
   "execution_count": 28,
   "id": "4643cf5e",
   "metadata": {
    "execution": {
     "iopub.execute_input": "2025-03-31T12:17:53.548522Z",
     "iopub.status.busy": "2025-03-31T12:17:53.548062Z",
     "iopub.status.idle": "2025-03-31T12:18:00.873286Z",
     "shell.execute_reply": "2025-03-31T12:18:00.872194Z"
    },
    "papermill": {
     "duration": 7.344343,
     "end_time": "2025-03-31T12:18:00.875605",
     "exception": false,
     "start_time": "2025-03-31T12:17:53.531262",
     "status": "completed"
    },
    "tags": []
   },
   "outputs": [
    {
     "data": {
      "text/markdown": [
       "The youngest author listed on the original Transformer paper, **\"Attention is All You Need\" (published in 2017)**, is likely **Aidan N. Gomez**.\n",
       "\n",
       "Here's why:\n",
       "\n",
       "* **Aidan N. Gomez** was a PhD student at the University of Toronto at the time of publication. PhD students are generally younger than researchers who have already completed their doctorates and are working in research labs or as professors.\n",
       "\n",
       "* The other authors were mostly researchers at Google Research, Google Brain, or the University of Toronto (but likely further along in their careers):\n",
       "    * **Ashish Vaswani, Noam Shazeer, Niki Parmar, Jakob Uszkoreit, Llion Jones, Łukasz Kaiser, and Illia Polosukhin** were affiliated with Google Research and Google Brain, suggesting they were more established researchers.\n",
       "\n",
       "While we don't have exact birthdates for all authors to definitively say who is *absolutely* the youngest, being a PhD student at the time of publication strongly suggests that **Aidan N. Gomez** was the youngest author on the \"Attention is All You Need\" paper."
      ],
      "text/plain": [
       "<IPython.core.display.Markdown object>"
      ]
     },
     "execution_count": 28,
     "metadata": {},
     "output_type": "execute_result"
    }
   ],
   "source": [
    "import io\n",
    "from IPython.display import Markdown, clear_output\n",
    "\n",
    "\n",
    "response = client.models.generate_content_stream(\n",
    "    model='gemini-2.0-flash-thinking-exp',\n",
    "    contents='Who was the youngest author listed on the transformers NLP paper?',\n",
    ")\n",
    "\n",
    "buf = io.StringIO()\n",
    "for chunk in response:\n",
    "    buf.write(chunk.text)\n",
    "    # Display the response as it is streamed\n",
    "    print(chunk.text, end='')\n",
    "\n",
    "# And then render the finished response as formatted markdown.\n",
    "clear_output()\n",
    "Markdown(buf.getvalue())"
   ]
  },
  {
   "cell_type": "markdown",
   "id": "f82486fc",
   "metadata": {
    "id": "jPiZ_eIIaVPt",
    "papermill": {
     "duration": 0.014376,
     "end_time": "2025-03-31T12:18:00.905645",
     "exception": false,
     "start_time": "2025-03-31T12:18:00.891269",
     "status": "completed"
    },
    "tags": []
   },
   "source": [
    "## Code prompting"
   ]
  },
  {
   "cell_type": "markdown",
   "id": "72c26b19",
   "metadata": {
    "id": "ZinKamwXeR6C",
    "papermill": {
     "duration": 0.014338,
     "end_time": "2025-03-31T12:18:00.934642",
     "exception": false,
     "start_time": "2025-03-31T12:18:00.920304",
     "status": "completed"
    },
    "tags": []
   },
   "source": [
    "### Generating code\n",
    "\n",
    "The Gemini family of models can be used to generate code, configuration and scripts. Generating code can be helpful when learning to code, learning a new language or for rapidly generating a first draft.\n",
    "\n",
    "It's important to be aware that since LLMs can make mistakes, and can repeat training data, it's essential to read and test your code first, and comply with any relevant licenses.\n",
    "\n",
    "<table align=left>\n",
    "  <td>\n",
    "    <a target=\"_blank\" href=\"https://aistudio.google.com/prompts/1YX71JGtzDjXQkgdes8bP6i3oH5lCRKxv\"><img src=\"https://ai.google.dev/site-assets/images/marketing/home/icon-ais.png\" style=\"height: 24px\" height=24/> Open in AI Studio</a>\n",
    "  </td>\n",
    "</table>"
   ]
  },
  {
   "cell_type": "code",
   "execution_count": 29,
   "id": "88f3724a",
   "metadata": {
    "execution": {
     "iopub.execute_input": "2025-03-31T12:18:00.966535Z",
     "iopub.status.busy": "2025-03-31T12:18:00.966091Z",
     "iopub.status.idle": "2025-03-31T12:18:01.649371Z",
     "shell.execute_reply": "2025-03-31T12:18:01.647917Z"
    },
    "id": "fOQP9pqmeUO1",
    "papermill": {
     "duration": 0.702762,
     "end_time": "2025-03-31T12:18:01.652059",
     "exception": false,
     "start_time": "2025-03-31T12:18:00.949297",
     "status": "completed"
    },
    "tags": []
   },
   "outputs": [
    {
     "data": {
      "text/markdown": [
       "```python\n",
       "def factorial(n):\n",
       "  \"\"\"\n",
       "  Calculates the factorial of a number.\n",
       "\n",
       "  Args:\n",
       "      n: An integer.\n",
       "\n",
       "  Returns:\n",
       "      The factorial of n.\n",
       "  \"\"\"\n",
       "  if n == 0:\n",
       "    return 1\n",
       "  else:\n",
       "    return n * factorial(n-1)\n",
       "```\n"
      ],
      "text/plain": [
       "<IPython.core.display.Markdown object>"
      ]
     },
     "execution_count": 29,
     "metadata": {},
     "output_type": "execute_result"
    }
   ],
   "source": [
    "# The Gemini models love to talk, so it helps to specify they stick to the code if that\n",
    "# is all that you want.\n",
    "code_prompt = \"\"\"\n",
    "Write a Python function to calculate the factorial of a number. No explanation, provide only the code.\n",
    "\"\"\"\n",
    "\n",
    "response = client.models.generate_content(\n",
    "    model='gemini-2.0-flash',\n",
    "    config=types.GenerateContentConfig(\n",
    "        temperature=1,\n",
    "        top_p=1,\n",
    "        max_output_tokens=1024,\n",
    "    ),\n",
    "    contents=code_prompt)\n",
    "\n",
    "Markdown(response.text)"
   ]
  },
  {
   "cell_type": "markdown",
   "id": "2a9cab53",
   "metadata": {
    "id": "wlBMWSFhgVRQ",
    "papermill": {
     "duration": 0.015494,
     "end_time": "2025-03-31T12:18:01.683353",
     "exception": false,
     "start_time": "2025-03-31T12:18:01.667859",
     "status": "completed"
    },
    "tags": []
   },
   "source": [
    "### Code execution\n",
    "\n",
    "The Gemini API can automatically run generated code too, and will return the output.\n",
    "\n",
    "<table align=left>\n",
    "  <td>\n",
    "    <a target=\"_blank\" href=\"https://aistudio.google.com/prompts/11veFr_VYEwBWcLkhNLr-maCG0G8sS_7Z\"><img src=\"https://ai.google.dev/site-assets/images/marketing/home/icon-ais.png\" style=\"height: 24px\" height=24/> Open in AI Studio</a>\n",
    "  </td>\n",
    "</table>"
   ]
  },
  {
   "cell_type": "code",
   "execution_count": 30,
   "id": "fda41980",
   "metadata": {
    "execution": {
     "iopub.execute_input": "2025-03-31T12:18:01.716587Z",
     "iopub.status.busy": "2025-03-31T12:18:01.716173Z",
     "iopub.status.idle": "2025-03-31T12:18:03.215659Z",
     "shell.execute_reply": "2025-03-31T12:18:03.214342Z"
    },
    "id": "jT3OfWYfhjRL",
    "papermill": {
     "duration": 1.519387,
     "end_time": "2025-03-31T12:18:03.218331",
     "exception": false,
     "start_time": "2025-03-31T12:18:01.698944",
     "status": "completed"
    },
    "tags": []
   },
   "outputs": [
    {
     "name": "stdout",
     "output_type": "stream",
     "text": [
      "{'text': 'Okay, I understand. First, I will generate the first 14 odd prime '\n",
      "         'numbers. Then, I will calculate their sum.\\n'\n",
      "         '\\n'\n",
      "         \"Here's the list of the first 14 odd prime numbers:\\n\"\n",
      "         '\\n'\n",
      "         '3, 5, 7, 11, 13, 17, 19, 23, 29, 31, 37, 41, 43, 47\\n'\n",
      "         '\\n'\n",
      "         'Now, I will calculate their sum using python.\\n'\n",
      "         '\\n'}\n",
      "-----\n",
      "{'executable_code': {'code': 'numbers = [3, 5, 7, 11, 13, 17, 19, 23, 29, 31, '\n",
      "                             '37, 41, 43, 47]\\n'\n",
      "                             'sum_of_numbers = sum(numbers)\\n'\n",
      "                             'print(sum_of_numbers)\\n',\n",
      "                     'language': 'PYTHON'}}\n",
      "-----\n",
      "{'code_execution_result': {'outcome': 'OUTCOME_OK', 'output': '326\\n'}}\n",
      "-----\n",
      "{'text': 'The sum of the first 14 odd prime numbers is 326.\\n'}\n",
      "-----\n"
     ]
    }
   ],
   "source": [
    "from pprint import pprint\n",
    "\n",
    "config = types.GenerateContentConfig(\n",
    "    tools=[types.Tool(code_execution=types.ToolCodeExecution())],\n",
    ")\n",
    "\n",
    "code_exec_prompt = \"\"\"\n",
    "Generate the first 14 odd prime numbers, then calculate their sum.\n",
    "\"\"\"\n",
    "\n",
    "response = client.models.generate_content(\n",
    "    model='gemini-2.0-flash',\n",
    "    config=config,\n",
    "    contents=code_exec_prompt)\n",
    "\n",
    "for part in response.candidates[0].content.parts:\n",
    "  pprint(part.to_json_dict())\n",
    "  print(\"-----\")"
   ]
  },
  {
   "cell_type": "markdown",
   "id": "93401e93",
   "metadata": {
    "id": "ZspT1GSkjG6d",
    "papermill": {
     "duration": 0.014639,
     "end_time": "2025-03-31T12:18:03.248116",
     "exception": false,
     "start_time": "2025-03-31T12:18:03.233477",
     "status": "completed"
    },
    "tags": []
   },
   "source": [
    "This response contains multiple parts, including an opening and closing text part that represent regular responses, an `executable_code` part that represents generated code and a `code_execution_result` part that represents the results from running the generated code.\n",
    "\n",
    "You can explore them individually."
   ]
  },
  {
   "cell_type": "code",
   "execution_count": 31,
   "id": "da010c5f",
   "metadata": {
    "execution": {
     "iopub.execute_input": "2025-03-31T12:18:03.280941Z",
     "iopub.status.busy": "2025-03-31T12:18:03.280486Z",
     "iopub.status.idle": "2025-03-31T12:18:03.296127Z",
     "shell.execute_reply": "2025-03-31T12:18:03.294537Z"
    },
    "papermill": {
     "duration": 0.03504,
     "end_time": "2025-03-31T12:18:03.298916",
     "exception": false,
     "start_time": "2025-03-31T12:18:03.263876",
     "status": "completed"
    },
    "tags": []
   },
   "outputs": [
    {
     "data": {
      "text/markdown": [
       "Okay, I understand. First, I will generate the first 14 odd prime numbers. Then, I will calculate their sum.\n",
       "\n",
       "Here's the list of the first 14 odd prime numbers:\n",
       "\n",
       "3, 5, 7, 11, 13, 17, 19, 23, 29, 31, 37, 41, 43, 47\n",
       "\n",
       "Now, I will calculate their sum using python.\n",
       "\n"
      ],
      "text/plain": [
       "<IPython.core.display.Markdown object>"
      ]
     },
     "metadata": {},
     "output_type": "display_data"
    },
    {
     "data": {
      "text/markdown": [
       "```python\n",
       "numbers = [3, 5, 7, 11, 13, 17, 19, 23, 29, 31, 37, 41, 43, 47]\n",
       "sum_of_numbers = sum(numbers)\n",
       "print(sum_of_numbers)\n",
       "\n",
       "```"
      ],
      "text/plain": [
       "<IPython.core.display.Markdown object>"
      ]
     },
     "metadata": {},
     "output_type": "display_data"
    },
    {
     "data": {
      "text/markdown": [
       "```\n",
       "326\n",
       "\n",
       "```"
      ],
      "text/plain": [
       "<IPython.core.display.Markdown object>"
      ]
     },
     "metadata": {},
     "output_type": "display_data"
    },
    {
     "data": {
      "text/markdown": [
       "The sum of the first 14 odd prime numbers is 326.\n"
      ],
      "text/plain": [
       "<IPython.core.display.Markdown object>"
      ]
     },
     "metadata": {},
     "output_type": "display_data"
    }
   ],
   "source": [
    "for part in response.candidates[0].content.parts:\n",
    "    if part.text:\n",
    "        display(Markdown(part.text))\n",
    "    elif part.executable_code:\n",
    "        display(Markdown(f'```python\\n{part.executable_code.code}\\n```'))\n",
    "    elif part.code_execution_result:\n",
    "        if part.code_execution_result.outcome != 'OUTCOME_OK':\n",
    "            display(Markdown(f'## Status {part.code_execution_result.outcome}'))\n",
    "\n",
    "        display(Markdown(f'```\\n{part.code_execution_result.output}\\n```'))"
   ]
  },
  {
   "cell_type": "markdown",
   "id": "98516fb6",
   "metadata": {
    "id": "1gUX8QzCj4d5",
    "papermill": {
     "duration": 0.017216,
     "end_time": "2025-03-31T12:18:03.333583",
     "exception": false,
     "start_time": "2025-03-31T12:18:03.316367",
     "status": "completed"
    },
    "tags": []
   },
   "source": [
    "### Explaining code\n",
    "\n",
    "The Gemini family of models can explain code to you too. In this example, you pass a [bash script](https://github.com/magicmonty/bash-git-prompt) and ask some questions.\n",
    "\n",
    "<table align=left>\n",
    "  <td>\n",
    "    <a target=\"_blank\" href=\"https://aistudio.google.com/prompts/1N7LGzWzCYieyOf_7bAG4plrmkpDNmUyb\"><img src=\"https://ai.google.dev/site-assets/images/marketing/home/icon-ais.png\" style=\"height: 24px\" height=24/> Open in AI Studio</a>\n",
    "  </td>\n",
    "</table>"
   ]
  },
  {
   "cell_type": "code",
   "execution_count": 32,
   "id": "4523f2b5",
   "metadata": {
    "execution": {
     "iopub.execute_input": "2025-03-31T12:18:03.371021Z",
     "iopub.status.busy": "2025-03-31T12:18:03.370561Z",
     "iopub.status.idle": "2025-03-31T12:18:05.758533Z",
     "shell.execute_reply": "2025-03-31T12:18:05.756887Z"
    },
    "id": "7_jPMMoxkIEb",
    "papermill": {
     "duration": 2.408744,
     "end_time": "2025-03-31T12:18:05.761161",
     "exception": false,
     "start_time": "2025-03-31T12:18:03.352417",
     "status": "completed"
    },
    "tags": []
   },
   "outputs": [
    {
     "data": {
      "text/markdown": [
       "This file is a shell script, likely named `git-prompt.sh`, designed to enhance your command-line prompt with Git-related information.\n",
       "\n",
       "**What it does (high-level):**\n",
       "\n",
       "*   **Adds Git Status to Your Prompt:** It reads information about the current Git repository (branch, status of files, remote status, etc.) and displays it in your command prompt. This helps you quickly see if you have changes to commit, if you're behind the remote, and other relevant Git details.\n",
       "*   **Customization:** It allows you to customize the appearance of the Git prompt through themes, colors, and symbols. You can control what information is displayed and how it's formatted.\n",
       "*   **Asynchronous Updates:** It can update the prompt information asynchronously (in the background), so it doesn't slow down your command line.\n",
       "\n",
       "**Why you would use it:**\n",
       "\n",
       "*   **Git Awareness:** To be more aware of your Git repository's status directly from your command line, improving your workflow.\n",
       "*   **Improved Workflow:** See at a glance if you need to commit, push, or pull, making you more efficient.\n",
       "*   **Personalization:** To customize your prompt with colors and symbols that you like, making your terminal more informative and visually appealing.\n",
       "\n",
       "In short, it's a tool to make your command prompt more informative and Git-aware. After sourcing this in either `~/.bashrc` or `~/.zshrc`, you will get useful git status printed on the shell prompt.\n"
      ],
      "text/plain": [
       "<IPython.core.display.Markdown object>"
      ]
     },
     "execution_count": 32,
     "metadata": {},
     "output_type": "execute_result"
    }
   ],
   "source": [
    "file_contents = !curl https://raw.githubusercontent.com/magicmonty/bash-git-prompt/refs/heads/master/gitprompt.sh\n",
    "\n",
    "explain_prompt = f\"\"\"\n",
    "Please explain what this file does at a very high level. What is it, and why would I use it?\n",
    "\n",
    "```\n",
    "{file_contents}\n",
    "```\n",
    "\"\"\"\n",
    "\n",
    "response = client.models.generate_content(\n",
    "    model='gemini-2.0-flash',\n",
    "    contents=explain_prompt)\n",
    "\n",
    "Markdown(response.text)"
   ]
  },
  {
   "cell_type": "markdown",
   "id": "a5162e5f",
   "metadata": {
    "id": "2a8266d97ce5",
    "papermill": {
     "duration": 0.015128,
     "end_time": "2025-03-31T12:18:05.793390",
     "exception": false,
     "start_time": "2025-03-31T12:18:05.778262",
     "status": "completed"
    },
    "tags": []
   },
   "source": [
    "## Learn more\n",
    "\n",
    "To learn more about prompting in depth:\n",
    "\n",
    "* Check out the whitepaper issued with today's content,\n",
    "* Try out the apps listed at the top of this notebook ([TextFX](https://textfx.withgoogle.com/), [SQL Talk](https://sql-talk-r5gdynozbq-uc.a.run.app/) and [NotebookLM](https://notebooklm.google/)),\n",
    "* Read the [Introduction to Prompting](https://ai.google.dev/gemini-api/docs/prompting-intro) from the Gemini API docs,\n",
    "* Explore the Gemini API's [prompt gallery](https://ai.google.dev/gemini-api/prompts) and try them out in AI Studio,\n",
    "* Check out the Gemini API cookbook for [inspirational examples](https://github.com/google-gemini/cookbook/blob/main/examples/) and [educational quickstarts](https://github.com/google-gemini/cookbook/blob/main/quickstarts/).\n",
    "\n",
    "Be sure to check out the codelabs on day 3 too, where you will explore some more advanced prompting with code execution.\n",
    "\n",
    "And please share anything exciting you have tried in the Discord!\n",
    "\n",
    "*- [Mark McD](https://linktr.ee/markmcd)*"
   ]
  }
 ],
 "metadata": {
  "colab": {
   "name": "day-1-prompting.ipynb",
   "toc_visible": true
  },
  "kaggle": {
   "accelerator": "none",
   "dataSources": [],
   "dockerImageVersionId": 30786,
   "isGpuEnabled": false,
   "isInternetEnabled": true,
   "language": "python",
   "sourceType": "notebook"
  },
  "kernelspec": {
   "display_name": "Python 3",
   "language": "python",
   "name": "python3"
  },
  "language_info": {
   "codemirror_mode": {
    "name": "ipython",
    "version": 3
   },
   "file_extension": ".py",
   "mimetype": "text/x-python",
   "name": "python",
   "nbconvert_exporter": "python",
   "pygments_lexer": "ipython3",
   "version": "3.10.14"
  },
  "papermill": {
   "default_parameters": {},
   "duration": 62.529353,
   "end_time": "2025-03-31T12:18:06.836093",
   "environment_variables": {},
   "exception": null,
   "input_path": "__notebook__.ipynb",
   "output_path": "__notebook__.ipynb",
   "parameters": {},
   "start_time": "2025-03-31T12:17:04.306740",
   "version": "2.6.0"
  }
 },
 "nbformat": 4,
 "nbformat_minor": 5
}
